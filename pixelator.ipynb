{
  "nbformat": 4,
  "nbformat_minor": 0,
  "metadata": {
    "colab": {
      "name": "pixelator.ipynb",
      "provenance": [],
      "authorship_tag": "ABX9TyP3S3BsstFurdseywHWDpgt",
      "include_colab_link": true
    },
    "kernelspec": {
      "name": "python3",
      "display_name": "Python 3"
    },
    "language_info": {
      "name": "python"
    }
  },
  "cells": [
    {
      "cell_type": "markdown",
      "metadata": {
        "id": "view-in-github",
        "colab_type": "text"
      },
      "source": [
        "<a href=\"https://colab.research.google.com/github/luckandrew/pixelator/blob/main/pixelator.ipynb\" target=\"_parent\"><img src=\"https://colab.research.google.com/assets/colab-badge.svg\" alt=\"Open In Colab\"/></a>"
      ]
    },
    {
      "cell_type": "code",
      "metadata": {
        "colab": {
          "base_uri": "https://localhost:8080/",
          "height": 217
        },
        "id": "XI6g32c5Z4IV",
        "outputId": "1b8298fa-cf1b-4e99-c782-5287748adc71"
      },
      "source": [
        "import numpy as np\n",
        "import pandas as pd\n",
        "import cv2\n",
        "from google.colab.patches import cv2_imshow # for image display\n",
        "from skimage import io\n",
        "from PIL import Image \n",
        "import matplotlib.pylab as plt\n",
        "\n",
        "\n",
        "image = cv2.imread(\"8bit_rgb.png\")\n",
        "cv2_imshow(image)\n",
        "height, width, depth = image.shape\n",
        "\n",
        "# blank placeholder image with bgr>rgb reversal\n",
        "def create_blank(width, height, rgb_color=(0, 0, 0)):\n",
        "    \"\"\"Create new image(numpy array) filled with certain color in RGB\"\"\"\n",
        "    # Create black blank image\n",
        "    image = np.zeros((height, width, 3), np.uint8)\n",
        "    # Since OpenCV uses BGR, convert the color first\n",
        "    color = tuple(reversed(rgb_color))\n",
        "    # Fill image with color\n",
        "    image[:] = color\n",
        "    return image\n",
        "\n",
        "# goes through image array and creates a new image matching each color\n",
        "for h in range(height):\n",
        "  for w in range(width):\n",
        "    # print('color is: ' + str(image[h, w]))\n",
        "    img = create_blank(1, 1, image[h, w])\n",
        "    cv2.imwrite(str(image[h, w]) + '.png', img)\n",
        "\n",
        "\n"
      ],
      "execution_count": 3,
      "outputs": [
        {
          "output_type": "display_data",
          "data": {
            "image/png": "[encoded data removed]",
            "text/plain": [
              "<PIL.Image.Image image mode=RGB size=258x200 at 0x7FA17A7AA290>"
            ]
          },
          "metadata": {
            "tags": []
          }
        }
      ]
    }
  ]
}